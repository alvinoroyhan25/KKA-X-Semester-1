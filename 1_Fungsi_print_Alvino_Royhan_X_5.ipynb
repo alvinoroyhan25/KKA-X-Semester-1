{
  "nbformat": 4,
  "nbformat_minor": 0,
  "metadata": {
    "colab": {
      "provenance": [],
      "toc_visible": true,
      "authorship_tag": "ABX9TyPt8zaXe2DT89FEnCJRMuJR",
      "include_colab_link": true
    },
    "kernelspec": {
      "name": "python3",
      "display_name": "Python 3"
    },
    "language_info": {
      "name": "python"
    }
  },
  "cells": [
    {
      "cell_type": "markdown",
      "metadata": {
        "id": "view-in-github",
        "colab_type": "text"
      },
      "source": [
        "<a href=\"https://colab.research.google.com/github/alvinoroyhan25/KKA-X-Semester-1/blob/main/1_Fungsi_print_Alvino_Royhan_X_5.ipynb\" target=\"_parent\"><img src=\"https://colab.research.google.com/assets/colab-badge.svg\" alt=\"Open In Colab\"/></a>"
      ]
    },
    {
      "cell_type": "markdown",
      "source": [
        "#1. Menampilkan Teks Bebas"
      ],
      "metadata": {
        "id": "k5OobX_1hI6z"
      }
    },
    {
      "cell_type": "code",
      "source": [
        "print(\"Hello world!\")"
      ],
      "metadata": {
        "colab": {
          "base_uri": "https://localhost:8080/"
        },
        "id": "t-gZpzhof5yL",
        "outputId": "268dd112-e0d5-4afe-8690-bbaf8c934000"
      },
      "execution_count": null,
      "outputs": [
        {
          "output_type": "stream",
          "name": "stdout",
          "text": [
            "Hello world!\n"
          ]
        }
      ]
    },
    {
      "cell_type": "code",
      "source": [
        "print(\"Alvino Royhan\")"
      ],
      "metadata": {
        "colab": {
          "base_uri": "https://localhost:8080/"
        },
        "id": "iNDcBTIJiiTK",
        "outputId": "8246303a-921b-4378-fcd4-da499b40c75c"
      },
      "execution_count": null,
      "outputs": [
        {
          "output_type": "stream",
          "name": "stdout",
          "text": [
            "Alvino Royhan\n"
          ]
        }
      ]
    },
    {
      "cell_type": "markdown",
      "source": [
        "#2. Menampilkan Nilai Variabel"
      ],
      "metadata": {
        "id": "8LBFDFOUkFaL"
      }
    },
    {
      "cell_type": "code",
      "source": [
        "beratBadan = 45\n",
        "\n",
        "print(beratBadan)"
      ],
      "metadata": {
        "colab": {
          "base_uri": "https://localhost:8080/"
        },
        "id": "zDpdx2eqlSRg",
        "outputId": "5c08545d-a696-4d12-fc40-7ca37ebe75eb"
      },
      "execution_count": null,
      "outputs": [
        {
          "output_type": "stream",
          "name": "stdout",
          "text": [
            "45\n"
          ]
        }
      ]
    },
    {
      "cell_type": "code",
      "source": [
        "tinggibadan = 171\n",
        "\n",
        "print(tinggibadan)"
      ],
      "metadata": {
        "colab": {
          "base_uri": "https://localhost:8080/"
        },
        "id": "LT1dbppDmlSP",
        "outputId": "1ebdfa73-a557-4a34-d00c-e55afb928ce4"
      },
      "execution_count": null,
      "outputs": [
        {
          "output_type": "stream",
          "name": "stdout",
          "text": [
            "171\n"
          ]
        }
      ]
    },
    {
      "cell_type": "code",
      "source": [
        "Nama = \"Alvino guanteng\"\n",
        "\n",
        "print(Nama)"
      ],
      "metadata": {
        "colab": {
          "base_uri": "https://localhost:8080/"
        },
        "id": "KCgbJzRpm--n",
        "outputId": "329d1fa8-d028-4bdb-ef97-9dc99e839207"
      },
      "execution_count": null,
      "outputs": [
        {
          "output_type": "stream",
          "name": "stdout",
          "text": [
            "Alvino guanteng\n"
          ]
        }
      ]
    },
    {
      "cell_type": "code",
      "source": [
        "Idola = \"Muhammad\"\n",
        "\n",
        "print(Idola)"
      ],
      "metadata": {
        "colab": {
          "base_uri": "https://localhost:8080/"
        },
        "id": "WTEE5iqxnX77",
        "outputId": "570e19bc-4e51-44d0-c597-d311edba5955"
      },
      "execution_count": null,
      "outputs": [
        {
          "output_type": "stream",
          "name": "stdout",
          "text": [
            "Muhammad\n"
          ]
        }
      ]
    },
    {
      "cell_type": "markdown",
      "source": [
        "#3. Menampilkan Teks bebas dan Nilai variabel"
      ],
      "metadata": {
        "id": "Y1hNYhe4lvsq"
      }
    },
    {
      "cell_type": "code",
      "source": [
        "print(\"Halo nama saya\", Nama, \".Berat badan saya\",beratBadan,\" Kg\")"
      ],
      "metadata": {
        "colab": {
          "base_uri": "https://localhost:8080/"
        },
        "id": "-HOTEkialvat",
        "outputId": "e17c2f33-956c-4aa5-9158-8ef1fca79a59"
      },
      "execution_count": null,
      "outputs": [
        {
          "output_type": "stream",
          "name": "stdout",
          "text": [
            "Halo nama saya Alvino guanteng .Berat badan saya 45  Kg\n"
          ]
        }
      ]
    },
    {
      "cell_type": "code",
      "source": [
        "print(\"Halo nama saya \"+ Nama+\". Berat badan saya \"+str(beratBadan)+\" kg\")"
      ],
      "metadata": {
        "colab": {
          "base_uri": "https://localhost:8080/"
        },
        "id": "h0jhKWKCmYDo",
        "outputId": "24f09cf5-f3f9-4382-c6d0-2ada86d97fc9"
      },
      "execution_count": null,
      "outputs": [
        {
          "output_type": "stream",
          "name": "stdout",
          "text": [
            "Halo nama saya Alvino guanteng. Berat badan saya 45 kg\n"
          ]
        }
      ]
    },
    {
      "cell_type": "code",
      "source": [
        "print(f\"Halo nama saya {Nama}. Berat badan saya {beratBadan} Kg. \")"
      ],
      "metadata": {
        "colab": {
          "base_uri": "https://localhost:8080/"
        },
        "id": "XZIawF5JmzcB",
        "outputId": "29747325-eb3b-40d9-ded8-65afa4ee1b83"
      },
      "execution_count": null,
      "outputs": [
        {
          "output_type": "stream",
          "name": "stdout",
          "text": [
            "Halo nama saya Alvino guanteng. Berat badan saya 45 Kg. \n"
          ]
        }
      ]
    },
    {
      "cell_type": "markdown",
      "source": [
        "#4.Escape Character"
      ],
      "metadata": {
        "id": "MAE134oLqRxi"
      }
    },
    {
      "cell_type": "code",
      "source": [
        "print(\"Nama: Alvino GuGuanteGuanteng\")\n",
        "print(\"Kelas: X.5\")\n",
        "print(\"No.Absen:8\")"
      ],
      "metadata": {
        "colab": {
          "base_uri": "https://localhost:8080/"
        },
        "id": "EGbqbeQbqQ0q",
        "outputId": "c5477dbe-acc0-4ace-86e3-6faa64f58417"
      },
      "execution_count": null,
      "outputs": [
        {
          "output_type": "stream",
          "name": "stdout",
          "text": [
            "Nama: Alvino GuGuanteGuanteng\n",
            "Kelas: X.5\n",
            "No.Absen:8\n"
          ]
        }
      ]
    },
    {
      "cell_type": "code",
      "source": [
        "print(\"Nama: Alvino Guanteng\\nKelas: X.5\\nNo.Absen: 29\")"
      ],
      "metadata": {
        "colab": {
          "base_uri": "https://localhost:8080/"
        },
        "id": "XUmlH9s6rB1B",
        "outputId": "df1564fd-f654-40e8-f4d5-d450c32f347d"
      },
      "execution_count": null,
      "outputs": [
        {
          "output_type": "stream",
          "name": "stdout",
          "text": [
            "Nama: Alvino Guanteng\n",
            "Kelas: X.5\n",
            "No.Absen: 29\n"
          ]
        }
      ]
    },
    {
      "cell_type": "code",
      "source": [
        "print(\"\"\"Nama\\t\\t: Alvino Royhan\n",
        "Kelas\\t\\t: X-5\n",
        "No. Absen\\t: 8\"\"\")"
      ],
      "metadata": {
        "colab": {
          "base_uri": "https://localhost:8080/"
        },
        "id": "JkPtlcBKkQsH",
        "outputId": "6342668d-6392-4317-e4a7-c32ce3c926b6"
      },
      "execution_count": null,
      "outputs": [
        {
          "output_type": "stream",
          "name": "stdout",
          "text": [
            "Nama\t\t: Alvino Royhan\n",
            "Kelas\t\t: X-5\n",
            "No. Absen\t: 8\n"
          ]
        }
      ]
    },
    {
      "cell_type": "code",
      "source": [
        "print('Nama Saya Ja\\'far Shodiq')"
      ],
      "metadata": {
        "colab": {
          "base_uri": "https://localhost:8080/"
        },
        "id": "M_k2CmHrlUDm",
        "outputId": "65a20a4f-3702-4940-ca65-754e4ba22983"
      },
      "execution_count": null,
      "outputs": [
        {
          "output_type": "stream",
          "name": "stdout",
          "text": [
            "Nama Saya Ja'far Shodiq\n"
          ]
        }
      ]
    },
    {
      "cell_type": "code",
      "source": [
        "print(\"Nama Saya Ja'far Shodiq\")"
      ],
      "metadata": {
        "colab": {
          "base_uri": "https://localhost:8080/"
        },
        "id": "vDwS2BttldFG",
        "outputId": "56fa6289-919c-43e3-b570-addbe69b4cd8"
      },
      "execution_count": null,
      "outputs": [
        {
          "output_type": "stream",
          "name": "stdout",
          "text": [
            "Nama Saya Ja'far Shodiq\n"
          ]
        }
      ]
    },
    {
      "cell_type": "code",
      "source": [
        "print(\"Nama Saya Ja\\'far Shodiq\")"
      ],
      "metadata": {
        "colab": {
          "base_uri": "https://localhost:8080/"
        },
        "id": "m6aQZ7HRliSq",
        "outputId": "3d143c9c-1d59-4648-cb07-3d846d700a4e"
      },
      "execution_count": null,
      "outputs": [
        {
          "output_type": "stream",
          "name": "stdout",
          "text": [
            "Nama Saya Ja'far Shodiq\n"
          ]
        }
      ]
    },
    {
      "cell_type": "code",
      "source": [
        "print('Bu Shinta berkata, \"Tolong perhatikan TV dan Saya.\"')"
      ],
      "metadata": {
        "colab": {
          "base_uri": "https://localhost:8080/"
        },
        "id": "A__TvuZhlpkz",
        "outputId": "29c3b31a-4a78-4187-d277-c54ca839e7fa"
      },
      "execution_count": null,
      "outputs": [
        {
          "output_type": "stream",
          "name": "stdout",
          "text": [
            "Bu Shinta berkata, \"Tolong perhatikan TV dan Saya.\"\n"
          ]
        }
      ]
    },
    {
      "cell_type": "code",
      "source": [
        "print(\"Bu Shinta berkata, \\\"Tolong perhatikan TV dan Saya.\\\"\")"
      ],
      "metadata": {
        "colab": {
          "base_uri": "https://localhost:8080/"
        },
        "id": "i8TDj2lDlvFS",
        "outputId": "370058ca-6c70-4a94-8ea9-cfbe4a62793b"
      },
      "execution_count": null,
      "outputs": [
        {
          "output_type": "stream",
          "name": "stdout",
          "text": [
            "Bu Shinta berkata, \"Tolong perhatikan TV dan Saya.\"\n"
          ]
        }
      ]
    },
    {
      "cell_type": "code",
      "source": [
        "print(\"Lokasi file tugas KKA adalah di Local Disk C:\\\\KKA\\\\Tugas\")"
      ],
      "metadata": {
        "colab": {
          "base_uri": "https://localhost:8080/"
        },
        "id": "XdxnC1x3l6iD",
        "outputId": "669bbc5e-603c-4d7a-b1c0-6d8c73d67a70"
      },
      "execution_count": null,
      "outputs": [
        {
          "output_type": "stream",
          "name": "stdout",
          "text": [
            "Lokasi file tugas KKA adalah di Local Disk C:\\KKA\\Tugas\n"
          ]
        }
      ]
    },
    {
      "cell_type": "code",
      "source": [
        "print(\"Bu Shinta berkata,\\\"Berikut adalah daftar piket harian kelas X.5\\nyang disimpan di file D:\\\\MAN Demak\\\\Jadwal Piket.\\\"\\n\\nSenin\\tSelasa\\tRabu\\nJielo\\tHasbi\\tNaufal\\nAzam\\tAida\\tA'inun\")"
      ],
      "metadata": {
        "colab": {
          "base_uri": "https://localhost:8080/"
        },
        "id": "tuoQuNDgqOX6",
        "outputId": "1978cf2d-5a68-4e59-cc3f-382be9e8ed51"
      },
      "execution_count": null,
      "outputs": [
        {
          "output_type": "stream",
          "name": "stdout",
          "text": [
            "Bu Shinta berkata,\"Berikut adalah daftar piket harian kelas X.5\n",
            "yang disimpan di file D:\\MAN Demak\\Jadwal Piket.\"\n",
            "\n",
            "Senin\tSelasa\tRabu\n",
            "Jielo\tHasbi\tNaufal\n",
            "Azam\tAida\tA'inun\n"
          ]
        }
      ]
    },
    {
      "cell_type": "markdown",
      "source": [
        "#Parameter fungsi print"
      ],
      "metadata": {
        "id": "5lCGGh4Hp0Us"
      }
    },
    {
      "cell_type": "code",
      "source": [
        "nama_siswa_1 = \"vino\"\n",
        "nama_siswa_2 = \"lana\"\n",
        "nama_siswa_3 = \"Grendy\"\n",
        "\n",
        "print(nama_siswa_1, end=\"-\")\n",
        "print(nama_siswa_2, end=\"-\")\n",
        "print(nama_siswa_3)"
      ],
      "metadata": {
        "colab": {
          "base_uri": "https://localhost:8080/"
        },
        "id": "MyXEhLSmqCKy",
        "outputId": "a7bcaf67-d776-4d8a-ec58-89ef47d3bf1f"
      },
      "execution_count": null,
      "outputs": [
        {
          "output_type": "stream",
          "name": "stdout",
          "text": [
            "vino-lana-Grendy\n"
          ]
        }
      ]
    },
    {
      "cell_type": "code",
      "source": [
        "nama_siswa_1 = \"Dani\"\n",
        "nama_siswa_2 = \"Jielo\"\n",
        "nama_siswa_3 = \"Aida\"\n",
        "nama_siswa_4 = \"Nurul\"\n",
        "print(nama_siswa_4, end=\"-\")\n",
        "print(nama_siswa_3, end=\"-\")\n",
        "print(nama_siswa_2, end=\"-\")\n",
        "print(nama_siswa_1)"
      ],
      "metadata": {
        "id": "coeird_hrEfX",
        "colab": {
          "base_uri": "https://localhost:8080/"
        },
        "outputId": "76b71c1e-90d5-4b6b-c208-4f128bbd64a3"
      },
      "execution_count": null,
      "outputs": [
        {
          "output_type": "stream",
          "name": "stdout",
          "text": [
            "Nurul-Aida-Jielo-Dani\n"
          ]
        }
      ]
    },
    {
      "cell_type": "code",
      "source": [
        "nama_siswa_5 = \"reski\"\n",
        "nama_siswa_6 = \"habibi\"\n",
        "nama_siswa_7 = \"naufal\"\n",
        "nama_siswa_8 = \"bobby\"\n",
        "\n",
        "\n",
        "print(nama_siswa_8, nama_siswa_7, nama_siswa_5, nama_siswa_6, sep=\"*\")"
      ],
      "metadata": {
        "id": "wj4Mjo_2sB_l"
      },
      "execution_count": null,
      "outputs": []
    },
    {
      "cell_type": "code",
      "source": [
        "nama_siswa_5 = \"reski\"\n",
        "nama_siswa_6 = \"habibi\"\n",
        "nama_siswa_7 = \"naufal\"\n",
        "nama_siswa_8 = \"bobby\"\n",
        "\n",
        "\n",
        "print(nama_siswa_8, nama_siswa_7, nama_siswa_5, nama_siswa_6, sep=\"*\")"
      ],
      "metadata": {
        "colab": {
          "base_uri": "https://localhost:8080/"
        },
        "id": "ztP1Zcpbn_W4",
        "outputId": "4ab03cb7-3996-4e02-e0c9-d2a355d0ae00"
      },
      "execution_count": null,
      "outputs": [
        {
          "output_type": "stream",
          "name": "stdout",
          "text": [
            "bobby*naufal*reski*habibi\n"
          ]
        }
      ]
    }
  ]
}